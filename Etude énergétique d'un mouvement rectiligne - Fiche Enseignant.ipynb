{
  "nbformat": 4,
  "nbformat_minor": 0,
  "metadata": {
    "colab": {
      "name": "Etude énergétique d'un mouvement rectiligne - Fiche Enseignant.ipynb",
      "version": "0.3.2",
      "provenance": [],
      "include_colab_link": true
    },
    "kernelspec": {
      "name": "python3",
      "display_name": "Python 3"
    }
  },
  "cells": [
    {
      "cell_type": "markdown",
      "metadata": {
        "id": "view-in-github",
        "colab_type": "text"
      },
      "source": [
        "<a href=\"https://colab.research.google.com/github/codekodo/R-Etude-energetique-d-un-mouvement-rectiligne/blob/master/Etude%20%C3%A9nerg%C3%A9tique%20d'un%20mouvement%20rectiligne%20-%20Fiche%20Enseignant.ipynb\" target=\"_parent\"><img src=\"https://colab.research.google.com/assets/colab-badge.svg\" alt=\"Open In Colab\"/></a>"
      ]
    },
    {
      "cell_type": "markdown",
      "metadata": {
        "id": "KFDPsOETvrbP",
        "colab_type": "text"
      },
      "source": [
        "**Fiche Enseignant**\n",
        "\n",
        "# ÉTUDE ÉNERGÉTIQUE D’UN MOUVEMENT RECTILIGNE\n",
        "\n",
        "## A. Fiche de présentation\n",
        "\n",
        "### 1. Objectifs\n",
        "Réaliser un programme, écrit en Python, simulant une chute verticale au cours d’un saut à l’élastique en l’absence de frottement en traçant l’évolution des énergies en fonction de la hauteur de chute.\n",
        "On ne s’intéressera qu’à la première partie du mouvement où l’élastique n’est pas tendu.\n",
        "\n",
        "### 2. Capacités expérimentales exigibles (BO)\n",
        "Utiliser un dispositif (smartphone, logiciel de traitement d’images, etc.) pour étudier l’évolution des énergies cinétique, potentielle et mécanique d’un système dans différentes situations : chute d’un corps, rebond sur un support, oscillations d’un pendule, etc.\n",
        "\n",
        "### 3. Capacité numérique (BO)\n",
        "Utiliser un langage de programmation pour effectuer le bilan énergétique d’un système en mouvement.\n",
        "\n",
        "### 4. Niveau concerné\n",
        "Première spécialité SPC\n",
        "\n",
        "### 5. Programme (BO)\n",
        "« L’énergie : conversions et transferts » / 1. Aspects énergétiques des phénomènes mécaniques\n",
        "\n",
        "### 6. Compétences travaillées\n",
        "* S’approprier\n",
        "* Analyser / Raisonner\n",
        "* Réaliser\n",
        "* Valider\n",
        "* Communiquer\n",
        "\n",
        "### 7. Prérequis\n",
        "* Energie cinétique d’un système modélisé par un point matériel\n",
        "* Energie potentielle\n",
        "* Energie mécanique\n",
        "* Conservation de l’énergie mécanique\n",
        "\n",
        "### 8. Ressources\n",
        "http://cache.media.eduscol.education.fr/file/Programmer_en_physique-chimie/12/5/RA18_Lycee_PHCH_etude-energetique-mouvement-rectiligne_1044125.pdf\n",
        "\n",
        "### 9. Mots clés\n",
        "Énergies, compétences numériques, programmation, Python\n",
        "\n",
        "### 10. Matériel\n",
        "Un ordinateur et un environnement Jupyter (Colaboratory, Azure Notebooks, Juptyer Lab, Jupyter Hub...)\n",
        "\n",
        "<br />\n",
        "\n",
        "---\n",
        "\n",
        "<br />\n",
        "\n",
        "## B. Sujet\n",
        "\n",
        "### 1. Situation déclenchante\n",
        "La société Vertigo Bridge fournit du matériel spécifique pour le saut à l’élastique et accompagne un de ses clients, à l’aide d’un logiciel de simulation, pour le choix des élastiques.\n",
        "Le client souhaite installer son activité sur le pont de Ponsonnas en Isère au sud de Grenoble.\n",
        "\n",
        "![alt text](https://raw.githubusercontent.com/codekodo/R-Etude-energetique-d-un-mouvement-rectiligne/master/image1.png)\n",
        "\n",
        "Le client indique que le pont possède une hauteur $H=100~m$ et que la masse maximale de la personne réalisant le saut est $m=100~kg$.\n",
        "\n",
        "La société propose un élastique de longueur à vide $l_0=30~m$ de constante de raideur $k=45~N.m^{-1}$.\n",
        "\n",
        "### 2. Modélisation\n",
        "Lors du saut à l’élastique, la personne saute du pont sans vitesse initiale depuis un point O d’altitude $z$ prise nulle.\n",
        "L’eau qui s’écoule sous le pont est à une altitude $z=-H=-100~m$.\n",
        "\n",
        "![alt text](https://raw.githubusercontent.com/codekodo/R-Etude-energetique-d-un-mouvement-rectiligne/master/image2.png)\n",
        "\n",
        "L’énergie potentielle de pesanteur de la personne qui saute est :\n",
        "$$E_{pp}=mgz$$\n",
        "\n",
        "L’énergie cinétique de la personne qui saute est :\n",
        "$$E_c=\\frac{1}{2} mv^2$$\n",
        "où $v$ est la vitesse de la personne qui saute.\n",
        "\n",
        "A l’altitude $z=0$, ces deux énergies ont pour valeur :\n",
        "\\begin{aligned}\n",
        "E_{pp}&=mgz=mg×0=0~J \\\\\n",
        "E_c&=\\frac{1}{2}mv^2=1/2 m×0^2=0~J\n",
        "\\end{aligned}\n",
        "\n",
        "Dans la première phase de la chute, l’élastique n’est pas tendu et donc n’exerce pas de force de rappel.\n",
        "La personne qui saute n’est donc soumise qu’à son poids (on rappelle que les frottements sont négligés).\n",
        "C’est une chute libre.\n",
        "Donc l’énergie mécanique $E_m = E_pp + E_c$ se conserve et est même nulle en considérant les conditions initiales du saut.\n",
        "$$E_m=E_{pp} + E_c = 0~J$$\n",
        "\n",
        "On en déduit donc que, durant la première phase de la chute, le lien entre l’énergie cinétique et l’énergie potentielle de pesanteur est :\n",
        "$$E_c = -E_{pp} = -mgz$$\n",
        "\n",
        "### 3. Préparation à la programmation\n",
        "Nous souhaitons tracer les énergies potentielle, notée $E_pp$, et cinétique, notée $E_c$, lors de la phase de chute libre. \n",
        "\n",
        "**Q1.** Pour vous approprier ce document, rappelez, [sur votre sujet papier / dans la cellule texte ci-dessous] :\n",
        "* l’expression de l’énergie potentielle en fonction de $m$, $g$ et $z$,\n",
        "* l’expression de l’énergie cinétique en fonction de $m$, $g$ et $z$, \n",
        "* l’intervalle d’altitude, noté $[z_{min} ;z_{max}]$, pendant lequel l’élastique n’est pas tendu.\n",
        "\n",
        "\n",
        "\n",
        "\n",
        "\n",
        "\n",
        "\n",
        "\n"
      ]
    },
    {
      "cell_type": "markdown",
      "metadata": {
        "id": "SmNXIERTraGa",
        "colab_type": "text"
      },
      "source": [
        "**REPONSE QUESTION Q1** - *double cliquez sur cette cellule pour l'éditer*"
      ]
    },
    {
      "cell_type": "markdown",
      "metadata": {
        "id": "xfz9dNkqrauJ",
        "colab_type": "text"
      },
      "source": [
        "Pour simplifier les représentations graphiques, nous préférons travailler avec une hauteur de chute positive en utilisant la variable $h=-z$.\n",
        "\n",
        "**Q2.** Analysez les relations précédentes, puis exprimez, [sur votre sujet papier / dans la cellule texte ci-dessous] :\n",
        "* l’énergie potentielle en fonction de $m$, $g$ et $h$,\n",
        "* l’énergie cinétique en fonction de $m$, $g$ et $h$, \n",
        "* l’intervalle de hauteur de chute, noté $[h_{min} ; h_{max}]$, pendant lequel l’élastique n’est pas tendu."
      ]
    },
    {
      "cell_type": "markdown",
      "metadata": {
        "id": "PiRn4glZsUHS",
        "colab_type": "text"
      },
      "source": [
        "**REPONSE QUESTION Q2** - *double cliquez sur cette cellule pour l'éditer*"
      ]
    },
    {
      "cell_type": "markdown",
      "metadata": {
        "id": "g_raSEXxsUpJ",
        "colab_type": "text"
      },
      "source": [
        "### 4. Programmation\n",
        "\n",
        "**Q1.**\tAfin de vous approprier le programme ci-dessous, complétez la cellule code suivante.\n",
        "<br /><br />\n",
        "![alt text](https://raw.githubusercontent.com/codekodo/R-Etude-energetique-d-un-mouvement-rectiligne/master/image3.png)\n",
        "\n"
      ]
    },
    {
      "cell_type": "code",
      "metadata": {
        "id": "McFFODNKvgeI",
        "colab_type": "code",
        "colab": {}
      },
      "source": [
        "# CELLULE CODE A COMPLETER\n",
        "\n",
        "# Importation de la librairie nécessaire pour les tracés\n",
        " \n",
        "\n",
        "# Définition des constantes g et m\n",
        "\n",
        "# Constante physique : g = 9.81 m/s²\n",
        "\n",
        "\n",
        "# Paramètre : masse du sauteur en kg\n",
        "\n",
        "\n",
        "# Création des listes vides\n",
        "    # liste pour stocker les valeurs des hauteurs de chute\n",
        "    # liste pour stocker les valeurs des énergies potentielles de pesanteur\n",
        "\n",
        "# Ajout itératif des valeurs de hauteurs de chute dans la liste h\n",
        "        # les valeurs s'étendent de 0 m à 31 m exclu par pas de 1 m \n",
        "        # ajout d'un élèment à la fin de la liste h\n",
        "\n",
        "# Calcul et ajout itératif des valeurs de l'énergie potentielle de pesanteur Epp(J) correspondantes aux hauteurs de chute\n",
        "        # les valeurs s'étendent de 0 m à 31 m exclu par pas de 1 m \n",
        "        # ajout d'un élèment à la fin de la liste h\n",
        "    \n",
        " \n",
        "# Tracé de l'énergie potentielle de pesanteur et de l'énergie cinétique en fonction de la hauteur\n",
        "        # plot(abscisse,ordonnée,\"legende de la courbe\")\n",
        "        # xlabel(\"Nom de l'axe de l'axe des absicces\")\n",
        "        # ylabel(\"Nom de l'axe des ordonnées\")\n",
        "        # Position de la legende de la courbe dans le graphique\n",
        "        # Affiche la grille du graphique\n",
        "        # Affiche le graphique"
      ],
      "execution_count": 0,
      "outputs": []
    },
    {
      "cell_type": "markdown",
      "metadata": {
        "id": "5hL9187waP7C",
        "colab_type": "text"
      },
      "source": [
        "**Q2.** Exécutez votre programme, puis appelez votre enseignant pour valider le fonctionnement.\n",
        "\n",
        "**Q3.** En analysant la boucle for qui a permis de faire la liste des énergies potentielles de pesanteur, complétez le programme pour créer la liste des énergies cinétiques correspondante (compétences analyser et réaliser).\n",
        "\n",
        "**Q4.** De même, complétez le programme pour afficher l’énergie cinétique en fonction de la hauteur de chute (compétences analyser et réaliser). *Remarque : une seule ligne suffit !*\n",
        "\n",
        "**Q5.** Exécutez votre programme, puis appelez votre enseignant pour valider le fonctionnement.\n",
        "\n",
        "**Q6.** En analysant le graphique obtenu, que pouvez-vous conclure quant à la conservation de l’énergie mécanique. Justifiez [sur votre sujet papier / dans la cellule texte ci-dessous]."
      ]
    },
    {
      "cell_type": "markdown",
      "metadata": {
        "id": "8PzubFxHtsiU",
        "colab_type": "text"
      },
      "source": [
        "**REPONSE QUESTION Q6** - *double cliquez sur cette cellule pour l'éditer*"
      ]
    },
    {
      "cell_type": "markdown",
      "metadata": {
        "id": "cVFFsewwttjJ",
        "colab_type": "text"
      },
      "source": [
        "**Q7.** Afin de valider le programme, indiquez, [sur votre sujet papier / dans la cellule texte ci-dessous], les valeurs de (1), (2), (3)...\n",
        "\n",
        "\n",
        " ~   | h=0m | h=15m | h = 30 m\n",
        " ---|---|---|---\n",
        "Mesure de l’énergie cinétique sur la courbe obtenue|(1)|(2)|(3)\n",
        "Calcul de l’énergie cinétique|(4)|(5)|(6)"
      ]
    },
    {
      "cell_type": "markdown",
      "metadata": {
        "id": "ADfrm79dvbgg",
        "colab_type": "text"
      },
      "source": [
        "**REPONSE QUESTION Q7** - *double cliquez sur cette cellule pour l'éditer*"
      ]
    },
    {
      "cell_type": "markdown",
      "metadata": {
        "id": "tSqTgQ8dvcWo",
        "colab_type": "text"
      },
      "source": [
        "**Q8.** Commentez, [sur votre sujet papier / dans la cellule texte ci-dessous], vos mesures et calculs pour valider, ou non, le fonctionnement de votre programme."
      ]
    },
    {
      "cell_type": "markdown",
      "metadata": {
        "id": "Uc5HWhH7vpGg",
        "colab_type": "text"
      },
      "source": [
        "**REPONSE QUESTION Q8** - *double cliquez sur cette cellule pour l'éditer*"
      ]
    },
    {
      "cell_type": "markdown",
      "metadata": {
        "id": "h-qO_njFvphY",
        "colab_type": "text"
      },
      "source": [
        "<br />\n",
        "\n",
        "---\n",
        "\n",
        "<br />\n",
        "\n",
        "## C. Correction\n",
        "\n",
        "<br /><br />\n",
        "\n",
        "![alt text](https://raw.githubusercontent.com/codekodo/R-Etude-energetique-d-un-mouvement-rectiligne/master/image4.png)"
      ]
    }
  ]
}